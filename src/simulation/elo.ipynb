{
 "cells": [
  {
   "cell_type": "markdown",
   "metadata": {},
   "source": [
    "# Tuning the Elo Model\n",
    "In following module we are going to find the optimal values for the K Factor and the Home Field Advantage for the ELO model we implemented"
   ]
  },
  {
   "cell_type": "code",
   "execution_count": 2,
   "metadata": {},
   "outputs": [],
   "source": [
    "from schedule import Schedule\n",
    "from sim import EloSimulator\n",
    "from stats import Analyzer"
   ]
  },
  {
   "cell_type": "code",
   "execution_count": 3,
   "metadata": {},
   "outputs": [
    {
     "ename": "SyntaxError",
     "evalue": "incomplete input (2032605410.py, line 1)",
     "output_type": "error",
     "traceback": [
      "\u001b[0;36m  Cell \u001b[0;32mIn[3], line 1\u001b[0;36m\u001b[0m\n\u001b[0;31m    \"\"\"\u001b[0m\n\u001b[0m    ^\u001b[0m\n\u001b[0;31mSyntaxError\u001b[0m\u001b[0;31m:\u001b[0m incomplete input\n"
     ]
    }
   ],
   "source": [
    "\"\"\"\n",
    "We need to get a list of all the dates we want to run the simulation for\n",
    "We run the preparation script with the ELO Simulator. The ELO Simulator will return \n",
    "probabilities of a team winning a game. We can then use these probabilities to calculate\n",
    "the Brier Score. \n",
    "\n",
    "\"\"\"\n",
    "\n",
    "data_stop_dates = [\"2024/03/01\"]\n",
    "all_games_path = \"/home/projects/baseball-MCS/data/intermediate/all_games.json\"\n",
    "\n",
    "for data_stop_date in data_stop_dates:\n",
    "    simulator = EloSimulator(k_factor=5, home_advantage=0)\n",
    "    schedule = Schedule(all_games_path, data_stop_date, simulator)\n",
    "    n = 1000\n",
    "    analyzer = Analyzer(n=n)\n",
    "    analyzer = schedule.sim(analyzer, n=n)\n",
    "    out = analyzer.export(simulator)\n",
    "    date = data_stop_date.replace(\"/\", \"_\")\n",
    "    out.to_csv(f\"/home/projects/baseball-MCS/data/final/{date}probabilities.csv\")"
   ]
  },
  {
   "cell_type": "code",
   "execution_count": null,
   "metadata": {},
   "outputs": [],
   "source": [
    "\n"
   ]
  }
 ],
 "metadata": {
  "kernelspec": {
   "display_name": "baseball",
   "language": "python",
   "name": "python3"
  },
  "language_info": {
   "codemirror_mode": {
    "name": "ipython",
    "version": 3
   },
   "file_extension": ".py",
   "mimetype": "text/x-python",
   "name": "python",
   "nbconvert_exporter": "python",
   "pygments_lexer": "ipython3",
   "version": "3.10.11"
  }
 },
 "nbformat": 4,
 "nbformat_minor": 2
}
